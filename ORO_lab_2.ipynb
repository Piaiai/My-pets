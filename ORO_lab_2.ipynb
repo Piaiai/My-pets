{
  "nbformat": 4,
  "nbformat_minor": 0,
  "metadata": {
    "colab": {
      "name": "ORO_lab_2_hlushenkov.ipynb",
      "provenance": [],
      "authorship_tag": "ABX9TyN/usIdlZanX3vt8qcEL59U",
      "include_colab_link": true
    },
    "kernelspec": {
      "name": "python3",
      "display_name": "Python 3"
    }
  },
  "cells": [
    {
      "cell_type": "markdown",
      "metadata": {
        "id": "view-in-github",
        "colab_type": "text"
      },
      "source": [
        "<a href=\"https://colab.research.google.com/github/Piaiai/My-pets/blob/master/ORO_lab_2.ipynb\" target=\"_parent\"><img src=\"https://colab.research.google.com/assets/colab-badge.svg\" alt=\"Open In Colab\"/></a>"
      ]
    },
    {
      "cell_type": "code",
      "metadata": {
        "id": "OUB1dvKWm1gD",
        "colab_type": "code",
        "colab": {}
      },
      "source": [
        "import matplotlib.pyplot as plt\n",
        "!unzip -uq \"/content/ОРО_Лб_2_jpg.zip\""
      ],
      "execution_count": null,
      "outputs": []
    },
    {
      "cell_type": "code",
      "metadata": {
        "id": "7Z8XK3EZn7sj",
        "colab_type": "code",
        "colab": {
          "base_uri": "https://localhost:8080/",
          "height": 303
        },
        "outputId": "9bde5df6-d9ff-4870-cfae-515804b4e321"
      },
      "source": [
        "import os\n",
        "import random\n",
        "import cv2 \n",
        "\n",
        "known_obj_dir = '/content/ОРО_Лб_2_jpg/_Bank_E/'\n",
        "unknow_obj_dir = '/content/ОРО_Лб_2_jpg/_Bank_U/'\n",
        "\n",
        "img_path = random.choice(os.listdir(known_obj_dir))\n",
        "print(img_path)\n",
        "img = cv2.imread(known_obj_dir + img_path, 1)\n",
        "\n",
        "plt.imshow(img)"
      ],
      "execution_count": null,
      "outputs": [
        {
          "output_type": "stream",
          "text": [
            "EZ_6.jpg\n"
          ],
          "name": "stdout"
        },
        {
          "output_type": "execute_result",
          "data": {
            "text/plain": [
              "<matplotlib.image.AxesImage at 0x7ff460f2f710>"
            ]
          },
          "metadata": {
            "tags": []
          },
          "execution_count": 49
        },
        {
          "output_type": "display_data",
          "data": {
            "image/png": "[encoded data removed]",
            "text/plain": [
              "<Figure size 432x288 with 1 Axes>"
            ]
          },
          "metadata": {
            "tags": [],
            "needs_background": "light"
          }
        }
      ]
    },
    {
      "cell_type": "code",
      "metadata": {
        "id": "CK72zXsUsaz2",
        "colab_type": "code",
        "colab": {
          "base_uri": "https://localhost:8080/",
          "height": 286
        },
        "outputId": "0cd350d4-bbe8-4ba0-e774-94f9422180dc"
      },
      "source": [
        "import numpy as np\n",
        "import pandas as pd\n",
        "\n",
        "def defineBounds(img):\n",
        "    img_blur = cv2.bilateralFilter(img, d = 7, sigmaSpace = 75, sigmaColor =75)\n",
        "    img_gray = cv2.cvtColor(img, cv2.COLOR_RGB2GRAY)\n",
        "    a = img_gray.max()  \n",
        "    _, thresh = cv2.threshold(img_gray, a/2, a,cv2.THRESH_BINARY_INV)\n",
        "    contours, hierarchy = cv2.findContours(image = thresh, mode = cv2.RETR_TREE, method = cv2.CHAIN_APPROX_SIMPLE)\n",
        "    c_0 = contours[0]\n",
        "\n",
        "    x, y, w, h = cv2.boundingRect(c_0)\n",
        "    return (x-10, y-10, w+20, h+20)\n",
        "\n",
        "def classify(unknown_img_path, known_objects_dir):\n",
        "    unknown_img = cv2.imread(unknown_img_path)\n",
        "    dist = 100000000.0\n",
        "    img_name = ''\n",
        "    for key in os.listdir(known_objects_dir):\n",
        "        etalon_img = cv2.imread(known_objects_dir + key)\n",
        "        res = cv2.matchTemplate(etalon_img, unknown_img, cv2.TM_SQDIFF)\n",
        "        min_val, max_val, min_loc, max_loc = cv2.minMaxLoc(res)\n",
        "        if min_val < dist: \n",
        "            dist = min_val\n",
        "            img_name = key\n",
        "    return img_name, dist\n",
        "\n",
        "\n",
        "answers = []\n",
        "for unknown_img_name in os.listdir(unknow_obj_dir):\n",
        "     answer, distance = classify(unknow_obj_dir + unknown_img_name, known_obj_dir)\n",
        "     answers.append((unknown_img_name, distance, answer))\n",
        "\n",
        "\n",
        "\n",
        "x, y, w, h = defineBounds(img)\n",
        "img_copy = img.copy()\n",
        "img_box = cv2.rectangle(img_copy, (x, y), (x+w, y+h), color = (255, 0, 0), thickness = 2)\n",
        "plt.imshow(img_box)\n"
      ],
      "execution_count": null,
      "outputs": [
        {
          "output_type": "execute_result",
          "data": {
            "text/plain": [
              "<matplotlib.image.AxesImage at 0x7ff460e99128>"
            ]
          },
          "metadata": {
            "tags": []
          },
          "execution_count": 50
        },
        {
          "output_type": "display_data",
          "data": {
            "image/png": "[encoded data removed]",
            "text/plain": [
              "<Figure size 432x288 with 1 Axes>"
            ]
          },
          "metadata": {
            "tags": [],
            "needs_background": "light"
          }
        }
      ]
    },
    {
      "cell_type": "code",
      "metadata": {
        "id": "3U9z3kI2tFtD",
        "colab_type": "code",
        "colab": {
          "base_uri": "https://localhost:8080/",
          "height": 359
        },
        "outputId": "f0f96fa1-c4b0-4beb-9df9-b33250c55e5a"
      },
      "source": [
        "df = pd.DataFrame(answers, columns =['Неизвестный объект', 'Расстояние d', 'имя файла']) \n",
        "df"
      ],
      "execution_count": null,
      "outputs": [
        {
          "output_type": "execute_result",
          "data": {
            "text/html": [
              "<div>\n",
              "<style scoped>\n",
              "    .dataframe tbody tr th:only-of-type {\n",
              "        vertical-align: middle;\n",
              "    }\n",
              "\n",
              "    .dataframe tbody tr th {\n",
              "        vertical-align: top;\n",
              "    }\n",
              "\n",
              "    .dataframe thead th {\n",
              "        text-align: right;\n",
              "    }\n",
              "</style>\n",
              "<table border=\"1\" class=\"dataframe\">\n",
              "  <thead>\n",
              "    <tr style=\"text-align: right;\">\n",
              "      <th></th>\n",
              "      <th>Неизвестный объект</th>\n",
              "      <th>Расстояние d</th>\n",
              "      <th>имя файла</th>\n",
              "    </tr>\n",
              "  </thead>\n",
              "  <tbody>\n",
              "    <tr>\n",
              "      <th>0</th>\n",
              "      <td>390512.jpg</td>\n",
              "      <td>3160.0</td>\n",
              "      <td>EZ_6.jpg</td>\n",
              "    </tr>\n",
              "    <tr>\n",
              "      <th>1</th>\n",
              "      <td>390513.jpg</td>\n",
              "      <td>0.0</td>\n",
              "      <td>EZ_8.jpg</td>\n",
              "    </tr>\n",
              "    <tr>\n",
              "      <th>2</th>\n",
              "      <td>390519.jpg</td>\n",
              "      <td>1776.0</td>\n",
              "      <td>EZ_4.jpg</td>\n",
              "    </tr>\n",
              "    <tr>\n",
              "      <th>3</th>\n",
              "      <td>390521.jpg</td>\n",
              "      <td>2298.0</td>\n",
              "      <td>EZ_1.jpg</td>\n",
              "    </tr>\n",
              "    <tr>\n",
              "      <th>4</th>\n",
              "      <td>390516.jpg</td>\n",
              "      <td>0.0</td>\n",
              "      <td>EZ_2.jpg</td>\n",
              "    </tr>\n",
              "    <tr>\n",
              "      <th>5</th>\n",
              "      <td>390518.jpg</td>\n",
              "      <td>6162.0</td>\n",
              "      <td>EZ_0.jpg</td>\n",
              "    </tr>\n",
              "    <tr>\n",
              "      <th>6</th>\n",
              "      <td>390515.jpg</td>\n",
              "      <td>3036.0</td>\n",
              "      <td>EZ_3.jpg</td>\n",
              "    </tr>\n",
              "    <tr>\n",
              "      <th>7</th>\n",
              "      <td>390517.jpg</td>\n",
              "      <td>1892.0</td>\n",
              "      <td>EZ_5.jpg</td>\n",
              "    </tr>\n",
              "    <tr>\n",
              "      <th>8</th>\n",
              "      <td>390514.jpg</td>\n",
              "      <td>1794.0</td>\n",
              "      <td>EZ_9.jpg</td>\n",
              "    </tr>\n",
              "    <tr>\n",
              "      <th>9</th>\n",
              "      <td>390520.jpg</td>\n",
              "      <td>1208.0</td>\n",
              "      <td>EZ_7.jpg</td>\n",
              "    </tr>\n",
              "  </tbody>\n",
              "</table>\n",
              "</div>"
            ],
            "text/plain": [
              "  Неизвестный объект  Расстояние d имя файла\n",
              "0         390512.jpg        3160.0  EZ_6.jpg\n",
              "1         390513.jpg           0.0  EZ_8.jpg\n",
              "2         390519.jpg        1776.0  EZ_4.jpg\n",
              "3         390521.jpg        2298.0  EZ_1.jpg\n",
              "4         390516.jpg           0.0  EZ_2.jpg\n",
              "5         390518.jpg        6162.0  EZ_0.jpg\n",
              "6         390515.jpg        3036.0  EZ_3.jpg\n",
              "7         390517.jpg        1892.0  EZ_5.jpg\n",
              "8         390514.jpg        1794.0  EZ_9.jpg\n",
              "9         390520.jpg        1208.0  EZ_7.jpg"
            ]
          },
          "metadata": {
            "tags": []
          },
          "execution_count": 48
        }
      ]
    },
    {
      "cell_type": "code",
      "metadata": {
        "id": "bS6DEHNJA-a_",
        "colab_type": "code",
        "colab": {}
      },
      "source": [
        ""
      ],
      "execution_count": null,
      "outputs": []
    },
    {
      "cell_type": "code",
      "metadata": {
        "id": "CnF4L-ujWEsx",
        "colab_type": "code",
        "colab": {}
      },
      "source": [
        ""
      ],
      "execution_count": null,
      "outputs": []
    }
  ]
}