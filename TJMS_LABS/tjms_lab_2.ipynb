{
  "nbformat": 4,
  "nbformat_minor": 0,
  "metadata": {
    "colab": {
      "name": "tjms_lab_2.ipynb",
      "provenance": [],
      "collapsed_sections": [],
      "include_colab_link": true
    },
    "kernelspec": {
      "name": "python3",
      "display_name": "Python 3"
    }
  },
  "cells": [
    {
      "cell_type": "markdown",
      "metadata": {
        "id": "view-in-github",
        "colab_type": "text"
      },
      "source": [
        "<a href=\"https://colab.research.google.com/github/Piaiai/My-pets/blob/master/tjms_lab_2.ipynb\" target=\"_parent\"><img src=\"https://colab.research.google.com/assets/colab-badge.svg\" alt=\"Open In Colab\"/></a>"
      ]
    },
    {
      "cell_type": "code",
      "metadata": {
        "id": "NhnN2RGYkU_v",
        "colab_type": "code",
        "colab": {
          "base_uri": "https://localhost:8080/",
          "height": 35
        },
        "outputId": "1ed9dd54-9fc5-46a1-afd4-b075186b94f4"
      },
      "source": [
        "import pandas as pd\n",
        "import numpy as np\n",
        "import numpy as np\n",
        "import seaborn as sns\n",
        "import scipy.stats as stats\n",
        "from scipy.stats import f as fisher_f\n",
        "from matplotlib import pyplot as plt\n",
        "from scipy.stats import f, norm\n",
        "plt.figure(figsize=(12,8))\n",
        "sns.set_style(style='darkgrid')"
      ],
      "execution_count": null,
      "outputs": [
        {
          "output_type": "display_data",
          "data": {
            "text/plain": [
              "<Figure size 864x576 with 0 Axes>"
            ]
          },
          "metadata": {
            "tags": []
          }
        }
      ]
    },
    {
      "cell_type": "code",
      "metadata": {
        "id": "h_1dRWp306dz",
        "colab_type": "code",
        "colab": {
          "base_uri": "https://localhost:8080/",
          "height": 678
        },
        "outputId": "a45b03d6-904c-4b91-b7c2-4cb0c63003f9"
      },
      "source": [
        "f1 = [0.6, 0.2, 0.4, 0.5, 0.8, 0.2, 0.1, 0.6, 0.8, 0.8]  # factor 1\n",
        "f2 = [0.2, 0.2, 0.4, 0.3, 0.3, 0.6, 0.8, 0.2, 0.5, 0.5]  # factor 2\n",
        "f3 = [0.8, 0.6, 0.2, 0.4, 0.9, 1.1, 0.8, 0.2, 0.4, 0.8]  # factor 3\n",
        "f4 = [0.7, 0.7, 0.3, 0.3, 0.2, 0.8, 0.6, 0.4, 0.2, 0.6]  # factor 4\n",
        "observation_matrix = [f1, f2, f3, f4] \n",
        "\n",
        "\n",
        "def DispersionAnalysis(matrix):\n",
        "  # adding constants for calculating degrees of freedom\n",
        "  p, q = len(matrix), len(matrix[0])\n",
        "  # Calculate mean common\n",
        "  Scommon = sum([sum(x)/len(x) for x in matrix])/len(matrix)\n",
        "  print(\"Общее среднее равно: {}\".format(Scommon))\n",
        "  # Находим общую сумму квадратов отклонений\n",
        "  TotalSum = sum([sum(map(lambda y: y*y, x)) for x in matrix]) - p * q * Scommon**2\n",
        "  print(\"Общая суммa квадратов отклонений равна: {}\".format(round(TotalSum, 4)))\n",
        "  # Вычисляем факторную дисперсию\n",
        "  FactorialSum = q * (sum([(sum(x)/len(x))**2 for x in matrix]) - p * Scommon**2)\n",
        "  print('Факторная сумма квадратов отклонений групповых средних от общей средней равна {0:.3f}'.format(FactorialSum))\n",
        "  Srem = TotalSum - FactorialSum\n",
        "  print('Остаточная сумма квадратов отклонений {0:.3f}'.format(Srem))\n",
        "  # Определяем факторную дисперсию\n",
        "  FactDisp = FactorialSum / (p - 1)\n",
        "  print('Факторная дисперсия: {0:.4f}'.format(FactDisp))\n",
        "  # Определяем остаточную дисперсию\n",
        "  RemDisp = Srem / (p * (q - 1))\n",
        "  print('Остаточная дисперсия: {0:.4f}'.format(RemDisp))\n",
        "  # Находим F наблюдений\n",
        "  F_observed = FactDisp / RemDisp\n",
        "  print(\"F наблюдений (Факторная дисперсия/Остаточная дисперсия): {0:.2f}\".format(F_observed))\n",
        "  F_critical = stats.f.ppf(q=0.95, dfn=p-1, dfd=p*(q - 1))\n",
        "  print('Ф критическое = {0:.2f}'.format(F_critical))\n",
        "  if F_observed > F_critical:\n",
        "    print('В связи с тем, что fнабл > fкр, альтернативная гипотезу о существенном влиянии фактора на результаты экспериментов принимаем \\n(нулевую гипотезу о равенстве групповых средних отвергаем). \\nДругими словами, групповые средние в целом различаются значимо.')\n",
        "  else:\n",
        "    print('В связи с тем, что fнабл < fкр, нулевую гипотезу о существенном влиянии фактора на результаты экспериментов принимаем \\n(альтернативную гипотезу о различии групповых средних отвергаем). \\nДругими словами, групповые средние в целом различаются незначимо.') \n",
        "\n",
        "DispersionAnalysis(observation_matrix)\n",
        "\n",
        "\n",
        "plt.figure(figsize=(12,8))\n",
        "plt.boxplot(observation_matrix)\n",
        "plt.show()"
      ],
      "execution_count": null,
      "outputs": [
        {
          "output_type": "stream",
          "text": [
            "Общее среднее равно: 0.5\n",
            "Общая суммa квадратов отклонений равна: 2.56\n",
            "Факторная сумма квадратов отклонений групповых средних от общей средней равна 0.248\n",
            "Остаточная сумма квадратов отклонений 2.312\n",
            "Факторная дисперсия: 0.0827\n",
            "Остаточная дисперсия: 0.0642\n",
            "F наблюдений (Факторная дисперсия/Остаточная дисперсия): 1.29\n",
            "Ф критическое = 2.87\n",
            "В связи с тем, что fнабл < fкр, нулевую гипотезу о существенном влиянии фактора на результаты экспериментов принимаем \n",
            "(альтернативную гипотезу о различии групповых средних отвергаем). \n",
            "Другими словами, групповые средние в целом различаются незначимо.\n"
          ],
          "name": "stdout"
        },
        {
          "output_type": "display_data",
          "data": {
            "image/png": "[encoded data removed]",
            "text/plain": [
              "<Figure size 864x576 with 1 Axes>"
            ]
          },
          "metadata": {
            "tags": []
          }
        }
      ]
    },
    {
      "cell_type": "code",
      "metadata": {
        "id": "_0DI9vLfrYMq",
        "colab_type": "code",
        "colab": {}
      },
      "source": [
        ""
      ],
      "execution_count": null,
      "outputs": []
    },
    {
      "cell_type": "code",
      "metadata": {
        "id": "KMBqqQ4HrZBs",
        "colab_type": "code",
        "colab": {}
      },
      "source": [
        ""
      ],
      "execution_count": null,
      "outputs": []
    },
    {
      "cell_type": "code",
      "metadata": {
        "id": "LigKbeuMrYT_",
        "colab_type": "code",
        "colab": {}
      },
      "source": [
        ""
      ],
      "execution_count": null,
      "outputs": []
    },
    {
      "cell_type": "code",
      "metadata": {
        "id": "4nbjERqhrYR4",
        "colab_type": "code",
        "colab": {}
      },
      "source": [
        ""
      ],
      "execution_count": null,
      "outputs": []
    },
    {
      "cell_type": "code",
      "metadata": {
        "id": "mE_pUh-XrYQS",
        "colab_type": "code",
        "colab": {}
      },
      "source": [
        ""
      ],
      "execution_count": null,
      "outputs": []
    },
    {
      "cell_type": "code",
      "metadata": {
        "id": "S-C7RKdIqAMR",
        "colab_type": "code",
        "colab": {}
      },
      "source": [
        ""
      ],
      "execution_count": null,
      "outputs": []
    }
  ]
}