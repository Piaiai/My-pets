{
  "nbformat": 4,
  "nbformat_minor": 0,
  "metadata": {
    "colab": {
      "name": "tkachenko.ipynb",
      "provenance": [],
      "include_colab_link": true
    },
    "kernelspec": {
      "name": "python3",
      "display_name": "Python 3"
    }
  },
  "cells": [
    {
      "cell_type": "markdown",
      "metadata": {
        "id": "view-in-github",
        "colab_type": "text"
      },
      "source": [
        "<a href=\"https://colab.research.google.com/github/Piaiai/My-pets/blob/master/naivi-bayes-spam-classifier.ipynb\" target=\"_parent\"><img src=\"https://colab.research.google.com/assets/colab-badge.svg\" alt=\"Open In Colab\"/></a>"
      ]
    },
    {
      "cell_type": "code",
      "metadata": {
        "id": "33b4xiXXWXWX",
        "colab_type": "code",
        "colab": {
          "resources": {
            "http://localhost:8080/nbextensions/google.colab/files.js": {
              "data": "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",
              "ok": true,
              "headers": [
                [
                  "content-type",
                  "application/javascript"
                ]
              ],
              "status": 200,
              "status_text": ""
            }
          },
          "base_uri": "https://localhost:8080/",
          "height": 108
        },
        "outputId": "35743b6d-5f62-490d-f350-7704fa619f7e"
      },
      "source": [
        "from google.colab import files\n",
        "uploaded = files.upload()"
      ],
      "execution_count": null,
      "outputs": [
        {
          "output_type": "display_data",
          "data": {
            "text/html": [
              "\n",
              "     <input type=\"file\" id=\"files-621bc04d-ee3b-4786-b9b5-2d9494a9478c\" name=\"files[]\" multiple disabled />\n",
              "     <output id=\"result-621bc04d-ee3b-4786-b9b5-2d9494a9478c\">\n",
              "      Upload widget is only available when the cell has been executed in the\n",
              "      current browser session. Please rerun this cell to enable.\n",
              "      </output>\n",
              "      <script src=\"/nbextensions/google.colab/files.js\"></script> "
            ],
            "text/plain": [
              "<IPython.core.display.HTML object>"
            ]
          },
          "metadata": {
            "tags": []
          }
        },
        {
          "output_type": "stream",
          "text": [
            "Saving non_spam.txt to non_spam.txt\n",
            "Saving words.csv to words.csv\n"
          ],
          "name": "stdout"
        }
      ]
    },
    {
      "cell_type": "code",
      "metadata": {
        "id": "YwzGkeMIRZ87",
        "colab_type": "code",
        "colab": {
          "base_uri": "https://localhost:8080/",
          "height": 391
        },
        "outputId": "0cde124e-f9e5-47eb-ba71-3901f11ac7bb"
      },
      "source": [
        "import pandas as pd\n",
        "!pip install -U https://github.com/kmike/pymorphy2/archive/master.zip#egg=pymorphy2\n",
        "!pip install -U pymorphy2-dicts-uk\n",
        "import pymorphy2\n",
        "\n",
        "punctuation = '!\"#$%&\\'()*+,-./:;<=>?@[\\]^`{|}~«–»0123456789—„”“”'\n",
        "\n",
        "class1 = list(pd.read_csv('words.csv')['Text'])\n",
        "with open('non_spam.txt', 'r',  encoding='utf-8') as f:\n",
        "    class2 = f.readlines()\n",
        "class2 = ''.join(class2).splitlines()\n",
        "\n",
        "              #предложение из текста 1\n",
        "tests = ['Міські, селищні, сільські голови та голови об’єднаних територіальних громад звернулися до Президента, аби законопроєкт про децентралізацію суттєво доопрацювали, а сам процес став відкритим.', # предложение из текста 1\n",
        "         'Завершується робота зі створення української центральної закупівельної організації, яка закуповуватиме ліки централізовано', # предложение из текста 1\n",
        "         # предложение из текста 1\n",
        "         'Надмірний формалізм під час вирішення питання про відкриття провадження у справі суперечить принципу верховенства права',\n",
        "         'вивчення впливу окремих факторів середовища та їхніх комплексів на здоров\\'я і життєдіяльність популяцій;', # предложение из текста 2\n",
        "         'дослідження процесів збереження та відновлення здоров\\'я і соціально-трудового потенціалу популяцій;', # предложение из текста 2\n",
        "         'розробка шляхів підвищення рівня здоров\\'я та соціально-трудового потенціалу населення;', # предложение из текста 2\n",
        "         'У Єврокомісії підтвердили, що створений в Україні новий оператор газотранспортної системи готовий працювати', # предложение, содержащее слова из топ-30  класса 1\n",
        "         'Їде в Україну працювати. Всього боїться',# предложение содержающие слова из топ-30  класса 1\n",
        "         'Це й зрозуміло, бо природа — один з компонентів середовища існування людини, і від її стану залежить майбутнє всього людства.', # предложение содержающие слова из топ-30  класса 2\n",
        "         'Життєдіяльність людини здійснюється в системі \"людина – середовище існування\".'] # предложение содержающие слова из топ-30  класса 2\n"
      ],
      "execution_count": null,
      "outputs": [
        {
          "output_type": "stream",
          "text": [
            "Collecting pymorphy2\n",
            "\u001b[?25l  Downloading https://github.com/kmike/pymorphy2/archive/master.zip\n",
            "\u001b[K     - 1.2MB 6.5MB/s\n",
            "\u001b[?25hRequirement already satisfied, skipping upgrade: dawg-python>=0.7.1 in /usr/local/lib/python3.6/dist-packages (from pymorphy2) (0.7.2)\n",
            "Requirement already satisfied, skipping upgrade: pymorphy2-dicts-ru<3.0,>=2.4 in /usr/local/lib/python3.6/dist-packages (from pymorphy2) (2.4.404381.4453942)\n",
            "Requirement already satisfied, skipping upgrade: docopt>=0.6 in /usr/local/lib/python3.6/dist-packages (from pymorphy2) (0.6.2)\n",
            "Building wheels for collected packages: pymorphy2\n",
            "  Building wheel for pymorphy2 (setup.py) ... \u001b[?25l\u001b[?25hdone\n",
            "  Created wheel for pymorphy2: filename=pymorphy2-0.8-cp36-none-any.whl size=54984 sha256=b0440e95e6f7925d77ca2ba5fdc4c45002ece938d9b12b060ab9cc91167304bb\n",
            "  Stored in directory: /tmp/pip-ephem-wheel-cache-p85o9f2h/wheels/f6/21/46/dff011bcd85c4d39485a665a721d8d685a4cdc29b37b0da7ce\n",
            "Successfully built pymorphy2\n",
            "Installing collected packages: pymorphy2\n",
            "  Found existing installation: pymorphy2 0.8\n",
            "    Uninstalling pymorphy2-0.8:\n",
            "      Successfully uninstalled pymorphy2-0.8\n",
            "Successfully installed pymorphy2-0.8\n"
          ],
          "name": "stdout"
        },
        {
          "output_type": "display_data",
          "data": {
            "application/vnd.colab-display-data+json": {
              "pip_warning": {
                "packages": [
                  "pymorphy2"
                ]
              }
            }
          },
          "metadata": {
            "tags": []
          }
        },
        {
          "output_type": "stream",
          "text": [
            "Requirement already up-to-date: pymorphy2-dicts-uk in /usr/local/lib/python3.6/dist-packages (2.4.1.1.1460299261)\n"
          ],
          "name": "stdout"
        }
      ]
    },
    {
      "cell_type": "code",
      "metadata": {
        "id": "iDnKZclyV99v",
        "colab_type": "code",
        "colab": {}
      },
      "source": [
        "def pre_process(text: list) -> list:\n",
        "    without_punctuation, result, temp_string = [], [], ''\n",
        "    for st in text:\n",
        "        for c in punctuation:\n",
        "            st = st.replace(c, '')\n",
        "        without_punctuation.append(st)\n",
        "    morph_analyzer = pymorphy2.MorphAnalyzer(lang='uk')\n",
        "    for st in without_punctuation:\n",
        "        for w in st.split(' '):\n",
        "            temp_string += morph_analyzer.parse(w)[0].normal_form + ' '\n",
        "        result.append(temp_string)\n",
        "        temp_string = ''\n",
        "    return result"
      ],
      "execution_count": null,
      "outputs": []
    },
    {
      "cell_type": "code",
      "metadata": {
        "id": "Fg8eJvX5V-7Y",
        "colab_type": "code",
        "colab": {}
      },
      "source": [
        "def create_dict(text: list) -> dict:\n",
        "    d = {}\n",
        "    for sentence in text:\n",
        "        for word in sentence.split():\n",
        "            d[word] = d[word]+1 if word in d else 1\n",
        "    return d"
      ],
      "execution_count": null,
      "outputs": []
    },
    {
      "cell_type": "code",
      "metadata": {
        "id": "GF7ptTf0V-1_",
        "colab_type": "code",
        "colab": {}
      },
      "source": [
        "class1, class2, tests_processed = pre_process(class1), pre_process(class2), pre_process(tests)"
      ],
      "execution_count": null,
      "outputs": []
    },
    {
      "cell_type": "code",
      "metadata": {
        "id": "x3o8mcPxV-5F",
        "colab_type": "code",
        "colab": {}
      },
      "source": [
        "def classify_by_naive_bayes(sentence: str, spam_likelihood=1) -> float:\n",
        "    ham_likelihood = 1\n",
        "    for word in sentence.split():\n",
        "        if (word not in class1_dict) or (word not in class2_dict):\n",
        "            continue\n",
        "        spam_likelihood *= (class1_dict[word] / spam_words_count) * (spam_words_count / general_words_count) / (\n",
        "                general_dict[word] / general_words_count)\n",
        "        ham_likelihood *= (class2_dict[word] / ham_words_count) * (ham_words_count / general_words_count) / (\n",
        "                general_dict[word] / general_words_count)\n",
        "    return spam_likelihood / (spam_likelihood + 1 ** (1 - len(sentence.split())) * ham_likelihood)"
      ],
      "execution_count": null,
      "outputs": []
    },
    {
      "cell_type": "code",
      "metadata": {
        "id": "4N6NlvD0V97j",
        "colab_type": "code",
        "colab": {}
      },
      "source": [
        "class1_dict, class2_dict = create_dict(class1), create_dict(class2) \n",
        "general_dict = create_dict(class1 + class2)"
      ],
      "execution_count": null,
      "outputs": []
    },
    {
      "cell_type": "code",
      "metadata": {
        "id": "87k83F8MV95m",
        "colab_type": "code",
        "colab": {}
      },
      "source": [
        "spam_words_count, ham_words_count = len(''.join(class1).split()), len(''.join(class2).split())\n",
        "general_words_count = spam_words_count + ham_words_count"
      ],
      "execution_count": null,
      "outputs": []
    },
    {
      "cell_type": "code",
      "metadata": {
        "id": "y2p8m94SV93t",
        "colab_type": "code",
        "colab": {
          "base_uri": "https://localhost:8080/",
          "height": 377
        },
        "outputId": "c18239a6-68d6-4b26-9840-8150c63e9c06"
      },
      "source": [
        "results = []\n",
        "for sent in tests_processed:\n",
        "    results.append(classify_by_naive_bayes(sent))\n",
        "\n",
        "for prob, sent in zip(results, tests):\n",
        "    print('Вероятность того, что сообщение \"{0}\" относится к классу 1 = {1}, \\n классу 2 = {2} соответственно'.format(sent, prob, 1 - prob))"
      ],
      "execution_count": null,
      "outputs": [
        {
          "output_type": "stream",
          "text": [
            "Вероятность того, что сообщение \"Міські, селищні, сільські голови та голови об’єднаних територіальних громад звернулися до Президента, аби законопроєкт про децентралізацію суттєво доопрацювали, а сам процес став відкритим.\" относится к классу 1 = 0.7594936708860759, \n",
            " классу 2 = 0.2405063291139241 соответственно\n",
            "Вероятность того, что сообщение \"Завершується робота зі створення української центральної закупівельної організації, яка закуповуватиме ліки централізовано\" относится к классу 1 = 0.24999999999999994, \n",
            " классу 2 = 0.75 соответственно\n",
            "Вероятность того, что сообщение \"Надмірний формалізм під час вирішення питання про відкриття провадження у справі суперечить принципу верховенства права\" относится к классу 1 = 0.9189189189189189, \n",
            " классу 2 = 0.08108108108108114 соответственно\n",
            "Вероятность того, что сообщение \"вивчення впливу окремих факторів середовища та їхніх комплексів на здоров'я і життєдіяльність популяцій;\" относится к классу 1 = 0.3770491803278687, \n",
            " классу 2 = 0.6229508196721313 соответственно\n",
            "Вероятность того, что сообщение \"дослідження процесів збереження та відновлення здоров'я і соціально-трудового потенціалу популяцій;\" относится к классу 1 = 0.1474358974358974, \n",
            " классу 2 = 0.8525641025641026 соответственно\n",
            "Вероятность того, что сообщение \"розробка шляхів підвищення рівня здоров'я та соціально-трудового потенціалу населення;\" относится к классу 1 = 0.2083333333333333, \n",
            " классу 2 = 0.7916666666666667 соответственно\n",
            "Вероятность того, что сообщение \"У Єврокомісії підтвердили, що створений в Україні новий оператор газотранспортної системи готовий працювати\" относится к классу 1 = 0.7320574162679425, \n",
            " классу 2 = 0.2679425837320575 соответственно\n",
            "Вероятность того, что сообщение \"Їде в Україну працювати. Всього боїться\" относится к классу 1 = 0.706806282722513, \n",
            " классу 2 = 0.293193717277487 соответственно\n",
            "Вероятность того, что сообщение \"Це й зрозуміло, бо природа — один з компонентів середовища існування людини, і від її стану залежить майбутнє всього людства.\" относится к классу 1 = 0.0036472043385874183, \n",
            " классу 2 = 0.9963527956614125 соответственно\n",
            "Вероятность того, что сообщение \"Життєдіяльність людини здійснюється в системі \"людина – середовище існування\".\" относится к классу 1 = 0.001665535747332058, \n",
            " классу 2 = 0.9983344642526679 соответственно\n"
          ],
          "name": "stdout"
        }
      ]
    },
    {
      "cell_type": "code",
      "metadata": {
        "id": "tsPRXDGjV90L",
        "colab_type": "code",
        "colab": {}
      },
      "source": [
        "top_30_class1 = sorted(class1_dict.items(), key = lambda kv:(kv[1], kv[0]))[-30::]\n",
        "top_30_class2 = sorted(class2_dict.items(), key = lambda kv:(kv[1], kv[0]))[-30::]"
      ],
      "execution_count": null,
      "outputs": []
    },
    {
      "cell_type": "code",
      "metadata": {
        "id": "tXOdWBO3V917",
        "colab_type": "code",
        "colab": {
          "base_uri": "https://localhost:8080/",
          "height": 592
        },
        "outputId": "9caa17f9-75ed-49ca-f8e3-05c910ac037e"
      },
      "source": [
        "import matplotlib.pyplot as plt\n",
        "df = pd.DataFrame(top_30_class1, columns=['Слова', 'Топ спама'])\n",
        "df.plot(kind='barh', x='Слова',figsize=(15, 10), color='y')\n",
        "plt.show()"
      ],
      "execution_count": null,
      "outputs": [
        {
          "output_type": "display_data",
          "data": {
            "image/png": "[encoded data removed]",
            "text/plain": [
              "<Figure size 1080x720 with 1 Axes>"
            ]
          },
          "metadata": {
            "tags": []
          }
        }
      ]
    },
    {
      "cell_type": "code",
      "metadata": {
        "id": "apczrGMvV9v-",
        "colab_type": "code",
        "colab": {
          "base_uri": "https://localhost:8080/",
          "height": 592
        },
        "outputId": "f7931e8f-ea45-43ea-e1c6-6838de0fc708"
      },
      "source": [
        "import matplotlib.pyplot as plt\n",
        "df = pd.DataFrame(top_30_class2, columns=['Слова', 'Топ спама'])\n",
        "df.plot(kind='barh', x='Слова',figsize=(15, 10), color='y')\n",
        "plt.show()"
      ],
      "execution_count": null,
      "outputs": [
        {
          "output_type": "display_data",
          "data": {
            "image/png": "[encoded data removed]",
            "text/plain": [
              "<Figure size 1080x720 with 1 Axes>"
            ]
          },
          "metadata": {
            "tags": []
          }
        }
      ]
    },
    {
      "cell_type": "code",
      "metadata": {
        "id": "wZx-x7w0V9qA",
        "colab_type": "code",
        "colab": {}
      },
      "source": [
        ""
      ],
      "execution_count": null,
      "outputs": []
    }
  ]
}